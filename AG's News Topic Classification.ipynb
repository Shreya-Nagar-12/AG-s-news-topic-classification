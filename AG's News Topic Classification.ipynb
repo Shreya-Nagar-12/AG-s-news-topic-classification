{
 "cells": [
  {
   "cell_type": "markdown",
   "metadata": {},
   "source": [
    "# AG's News Topic Classification\n",
    "\n",
    "**Importing Libraries required**"
   ]
  },
  {
   "cell_type": "code",
   "execution_count": null,
   "metadata": {},
   "outputs": [],
   "source": [
    "import pandas as pd\n",
    "import numpy as np\n",
    "import re\n",
    "import nltk\n",
    "from nltk.corpus import stopwords\n",
    "from nltk.stem import WordNetLemmatizer\n",
    "from sklearn.feature_extraction.text import TfidfVectorizer\n",
    "from sklearn.ensemble import RandomForestClassifier\n",
    "from sklearn.naive_bayes import MultinomialNB\n",
    "from sklearn.metrics import accuracy_score,classification_report"
   ]
  },
  {
   "cell_type": "markdown",
   "metadata": {},
   "source": [
    "**Creating Objects**"
   ]
  },
  {
   "cell_type": "code",
   "execution_count": null,
   "metadata": {},
   "outputs": [],
   "source": [
    "lem=WordNetLemmatizer()\n",
    "tv=TfidfVectorizer()\n",
    "rf=RandomForestClassifier()\n",
    "nb=MultinomialNB()"
   ]
  },
  {
   "cell_type": "markdown",
   "metadata": {},
   "source": [
    "**Loading dataset**"
   ]
  },
  {
   "cell_type": "code",
   "execution_count": null,
   "metadata": {},
   "outputs": [],
   "source": [
    "dftrain=pd.read_csv('C:/Users/Lenovo/Desktop/ag_news_csv/train.csv',names=['class','Title','Description'])\n",
    "dftest=pd.read_csv('C:/Users/Lenovo/Desktop/ag_news_csv/test.csv',names=['class','Title','Description'])"
   ]
  },
  {
   "cell_type": "markdown",
   "metadata": {},
   "source": [
    "**Dimension of dataset**"
   ]
  },
  {
   "cell_type": "code",
   "execution_count": null,
   "metadata": {},
   "outputs": [],
   "source": [
    "dftrain.shape"
   ]
  },
  {
   "cell_type": "code",
   "execution_count": null,
   "metadata": {},
   "outputs": [],
   "source": [
    "dftest.shape"
   ]
  },
  {
   "cell_type": "markdown",
   "metadata": {},
   "source": [
    "**Checking presence of missing value in dataset**"
   ]
  },
  {
   "cell_type": "code",
   "execution_count": null,
   "metadata": {},
   "outputs": [],
   "source": [
    "print(\"Total missing values in training set:\\n {}\\n\".format(dftrain.isnull().sum()))\n",
    "print(\"Total missing values in testing set:\\n {}\\n\".format(dftest.isnull().sum()))"
   ]
  },
  {
   "cell_type": "markdown",
   "metadata": {},
   "source": [
    "---------------- No missing value present ----------------\n",
    "\n",
    "**Checking Class imbalnce problem**"
   ]
  },
  {
   "cell_type": "code",
   "execution_count": null,
   "metadata": {},
   "outputs": [],
   "source": [
    "dftrain['class'].value_counts()"
   ]
  },
  {
   "cell_type": "code",
   "execution_count": null,
   "metadata": {},
   "outputs": [],
   "source": [
    "dftest['class'].value_counts()"
   ]
  },
  {
   "cell_type": "markdown",
   "metadata": {},
   "source": [
    "---------------- There is no class imbalance in dataset ----------------\n",
    "\n",
    "**Seprating independent(X) and dependent(Y) data**"
   ]
  },
  {
   "cell_type": "code",
   "execution_count": null,
   "metadata": {},
   "outputs": [],
   "source": [
    "Xtrain=dftrain.iloc[:,1:3].values\n",
    "Xtest=dftest.iloc[:,1:3].values\n",
    "\n",
    "Ytrain=dftrain.iloc[:,0].values\n",
    "Ytest=dftest.iloc[:,0].values"
   ]
  },
  {
   "cell_type": "markdown",
   "metadata": {},
   "source": [
    "**Text cleaning**"
   ]
  },
  {
   "cell_type": "code",
   "execution_count": null,
   "metadata": {},
   "outputs": [],
   "source": [
    "corpus1=[]\n",
    "for i in range(len(Xtrain)):\n",
    "    new1=re.sub('[^a-zA-Z]',' ',str(Xtrain[i])) # removing punction,numbers/ preserving only alphabets\n",
    "    new1=new1.lower()                           # conversion to lower case\n",
    "    words=nltk.word_tokenize(new1)              # splitting sentence into words\n",
    "    new1=[lem.lemmatize(word) for word in words if word not in set(stopwords.words('english'))] # Lemmatization & removing stopwords\n",
    "    new1=' '.join(new1) \n",
    "    corpus1.append(new1)"
   ]
  },
  {
   "cell_type": "code",
   "execution_count": null,
   "metadata": {},
   "outputs": [],
   "source": [
    "corpus2=[]\n",
    "for i in range(len(Xtest)):\n",
    "    new1=re.sub('[^a-zA-Z]',' ',str(Xtest[i]))\n",
    "    new1=new1.lower()\n",
    "    words=nltk.word_tokenize(new1)\n",
    "    new1=[lem.lemmatize(word) for word in words if word not in set(stopwords.words('english'))]\n",
    "    new1=' '.join(new1)\n",
    "    corpus2.append(new1)"
   ]
  },
  {
   "cell_type": "markdown",
   "metadata": {},
   "source": [
    "**Feature Extraction using TF IDF**"
   ]
  },
  {
   "cell_type": "code",
   "execution_count": null,
   "metadata": {},
   "outputs": [],
   "source": [
    "Xtrain=tv.fit_transform(corpus1).toarray()\n",
    "Xtest=tv.transform(corpus2).toarray()"
   ]
  },
  {
   "cell_type": "markdown",
   "metadata": {},
   "source": [
    "**Fitting data on Random Forest model & Multinominal Naive Bayes model**"
   ]
  },
  {
   "cell_type": "code",
   "execution_count": null,
   "metadata": {},
   "outputs": [],
   "source": [
    "rf.fit(Xtrain,Ytrain) # Random Forest \n",
    "nb.fit(Xtrain,Ytrain) # Multinominal Naive Bayes "
   ]
  },
  {
   "cell_type": "markdown",
   "metadata": {},
   "source": [
    "**Predicting class for Xtest data using Random Forest model & Multinominal Naive Bayes model**"
   ]
  },
  {
   "cell_type": "code",
   "execution_count": null,
   "metadata": {},
   "outputs": [],
   "source": [
    "rfpredict=rf.predict(Xtest) # Random Forest \n",
    "nbpredict=nb.predict(Xtest) # Multinominal Naive Bayes "
   ]
  },
  {
   "cell_type": "markdown",
   "metadata": {},
   "source": [
    "**Model Evaluation**"
   ]
  },
  {
   "cell_type": "code",
   "execution_count": null,
   "metadata": {},
   "outputs": [],
   "source": [
    "print(\"Confusion Matrix of Random forest:\\n {}\".format(classification_report(Ytest,rfpredict)))\n",
    "print(\"Confusion Matrix of Multinominal naive bayes:\\n {}\".format(classification_report(Ytest,nbpredict)))"
   ]
  },
  {
   "cell_type": "code",
   "execution_count": null,
   "metadata": {},
   "outputs": [],
   "source": [
    "rf_accuracy=accuracy_score(Ytest,rfpredict)\n",
    "nb_accuracy=accuracy_score(Ytest,nbpredict)\n",
    "\n",
    "if rf_accuracy>nb_accuracy:\n",
    "    print(\"Random Forest is more accurate with accuracy of {}%\".format(rf_accuracy*100))\n",
    "    print(\"Accuracy of Multinominal naive bayes is {}%\".format(nb_accuracy*100))\n",
    "        \n",
    "else:\n",
    "    print(\"Multinominal naive bayes is more accurate with accuracy of {}%\".format(nb_accuracy*100))\n",
    "    print(\"Accuracy of Random forest is {}%\".format(rf_accuracy*100))"
   ]
  }
 ],
 "metadata": {
  "kernelspec": {
   "display_name": "Python 3",
   "language": "python",
   "name": "python3"
  },
  "language_info": {
   "codemirror_mode": {
    "name": "ipython",
    "version": 3
   },
   "file_extension": ".py",
   "mimetype": "text/x-python",
   "name": "python",
   "nbconvert_exporter": "python",
   "pygments_lexer": "ipython3",
   "version": "3.7.3"
  }
 },
 "nbformat": 4,
 "nbformat_minor": 2
}
